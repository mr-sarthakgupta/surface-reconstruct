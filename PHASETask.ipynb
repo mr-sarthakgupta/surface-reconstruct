{
 "cells": [
  {
   "cell_type": "code",
   "execution_count": null,
   "metadata": {},
   "outputs": [],
   "source": [
    "import torch\n",
    "from torch import nn\n",
    "from skimage import measure\n",
    "import open3d as o3d\n",
    "# import your libraries\n",
    "\n"
   ]
  },
  {
   "cell_type": "code",
   "execution_count": null,
   "metadata": {},
   "outputs": [],
   "source": [
    "def load_pointcloud(filename):\n",
    "    # load points from ply file\n",
    "    pass\n",
    "\n",
    "def write_mesh(v,f,filename):\n",
    "    mesh = o3d.geometry.TriangleMesh(o3d.utility.Vector3dVector(v),o3d.utility.Vector3iVector(f))\n",
    "    o3d.io.write_triangle_mesh(filename,mesh)\n",
    "    \n",
    "def write_pointcloud(p,filename):\n",
    "    pc = o3d.geometry.PointCloud(o3d.utility.Vector3dVector(p))\n",
    "    o3d.io.write_point_cloud(filename,pc)\n",
    "\n",
    "class ImplcitNetwork(nn.Module):\n",
    "    def __init__(self):\n",
    "        pass\n",
    "\n",
    "    def forward(self, x):\n",
    "        pass\n",
    "\n",
    "    def phase_loss(self, x):\n",
    "        pass\n"
   ]
  },
  {
   "cell_type": "code",
   "execution_count": null,
   "metadata": {},
   "outputs": [],
   "source": [
    "class EightLayerNN(nn.Module):\n",
    "    def __init__(self, input_dim):\n",
    "        super(EightLayerNN, self).__init__()\n",
    "        self.fc1 = nn.Linear(input_dim, 512)\n",
    "        self.fc2 = nn.Linear(512, 512)\n",
    "        self.fc3 = nn.Linear(512, 512)\n",
    "        self.fc4 = nn.Linear(512 + input_dim, 512)  # Skip connection\n",
    "        self.fc5 = nn.Linear(512, 512)\n",
    "        self.fc6 = nn.Linear(512, 512)\n",
    "        self.fc7 = nn.Linear(512, 512)\n",
    "        self.fc8 = nn.Linear(512, 512)\n",
    "        self.relu = nn.ReLU()\n",
    "\n",
    "    def forward(self, x):\n",
    "        out1 = self.relu(self.fc1(x))\n",
    "        out2 = self.relu(self.fc2(out1))\n",
    "        out3 = self.relu(self.fc3(out2))\n",
    "        out4 = self.relu(self.fc4(torch.cat((out3, x), dim=-1)))  # Skip connection\n",
    "        out5 = self.relu(self.fc5(out4))\n",
    "        out6 = self.relu(self.fc6(out5))\n",
    "        out7 = self.relu(self.fc7(out6))\n",
    "        out8 = self.fc8(out7)\n",
    "        return out8\n",
    "\n",
    "def initialize_sdf_sphere_weights(model, radius=1.0):\n",
    "    with torch.no_grad():\n",
    "        for name, param in model.named_parameters():\n",
    "            if 'weight' in name:\n",
    "                nn.init.normal_(param, mean=0.0, std=0.01)\n",
    "            elif 'bias' in name:\n",
    "                nn.init.constant_(param, 0.0)\n",
    "\n",
    "# Initialize the model\n",
    "input_dim = 3  # Assuming 3D input for SDF\n",
    "model = EightLayerNN(input_dim)\n",
    "\n",
    "# Initialize weights to match SDF for a sphere\n",
    "initialize_sdf_sphere_weights(model)"
   ]
  },
  {
   "cell_type": "code",
   "execution_count": null,
   "metadata": {},
   "outputs": [],
   "source": [
    "# load point cloud\n",
    "points = load_pointcloud('bunny.ply')\n",
    "\n",
    "# instantiate the model and optimizer\n",
    "model = None\n",
    "opt = None"
   ]
  },
  {
   "cell_type": "code",
   "execution_count": null,
   "metadata": {},
   "outputs": [],
   "source": [
    "iters=100000\n",
    "lam, eps, mu = [10, 0.01, 10]\n",
    "for i in range(iters):\n",
    "    # compute loss and train network\n",
    "    loss = None\n",
    "\n",
    "    if i %1000 == 0:\n",
    "        # run evaluation \n",
    "        chamfer_dist = None\n",
    "        # create mesh with marching cubes\n",
    "        sdf_grid = None\n",
    "        v,f,_,_ = measure.marching_cubes_lewiner(sdf_grid, 0,gradient_direction='ascent')\n",
    "        write_mesh(v,f,f'mesh_{i}.ply')"
   ]
  }
 ],
 "metadata": {
  "interpreter": {
   "hash": "d8df06336734f3d5aefcb8cba5f6eb7ddbe787a24176311df2982a9f74ff87f0"
  },
  "kernelspec": {
   "display_name": "Python 3.7.12 ('neurecon')",
   "language": "python",
   "name": "python3"
  },
  "language_info": {
   "name": "python",
   "version": "3.7.12"
  },
  "orig_nbformat": 4
 },
 "nbformat": 4,
 "nbformat_minor": 2
}
